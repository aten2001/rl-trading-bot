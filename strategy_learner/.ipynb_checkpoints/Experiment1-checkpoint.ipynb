{
 "cells": [
  {
   "cell_type": "code",
   "execution_count": 47,
   "metadata": {
    "collapsed": false,
    "deletable": true,
    "editable": true
   },
   "outputs": [],
   "source": [
    "import StrategyLearner as sl\n",
    "import pandas as pd\n",
    "import numpy as np\n",
    "import marketsimcode as ms\n",
    "import ManualStrategy as ml\n",
    "import datetime as dt\n",
    "import util\n",
    "import matplotlib.pyplot as plt"
   ]
  },
  {
   "cell_type": "code",
   "execution_count": 55,
   "metadata": {
    "collapsed": true,
    "deletable": true,
    "editable": true
   },
   "outputs": [],
   "source": [
    "class experiment1(object):\n",
    "\n",
    "    def __init__(self, sd, ed, impact, sv, symbol):\n",
    "        self.sd = sd\n",
    "        self.ed = ed\n",
    "        self.impact = impact\n",
    "        self.sv = sv\n",
    "        self.symbol = symbol\n",
    "        \n",
    "    def convert_trades(self, trades):\n",
    "        trades['Symbol'] = self.symbol\n",
    "        trades['Order'] = 'BUY'\n",
    "        trades = trades.rename(index=str, columns={'JPM':'Shares'})\n",
    "        for date, row in trades.iterrows():\n",
    "            shares = row['Shares']\n",
    "            action = row['Order']\n",
    "            if shares < 0:\n",
    "                trades.loc[date, action] = 'SELL'\n",
    "                trades.loc[date, shares] = -shares\n",
    "        return trades\n",
    "    \n",
    "    def generate_figures(self):\n",
    "        insample_args=dict(symbol=self.symbol,sd=dt.datetime(2008,1,1),ed=dt.datetime(2009,12,31),sv=100000)\n",
    "        outsample_args=dict(symbol=self.symbol,sd=dt.datetime(2010,1,1),ed=dt.datetime(2011,12,31),sv=100000)\n",
    "\n",
    "        learner = sl.StrategyLearner(verbose=False,impact=self.impact)\n",
    "        learner.addEvidence(**insample_args)\n",
    "        insample_trades = self.convert_trades(learner.testPolicy(**insample_args))\n",
    "        print(insample_trades)\n",
    "        qlearner_portval = ms.compute_portvals(insample_trades, start_val = self.sv, commission=0, impact=self.impact)\n",
    "        qlearner_portval = qlearner_portval/qlearner_portval.iloc[0]\n",
    "\n",
    "        benchmark = ml.getBenchmark(sd=self.sd, ed=self.ed, shares=1000, symbol=self.symbol)\n",
    "        benchmark = benchmark / benchmark.iloc[0]\n",
    "\n",
    "        manual_trades = ml.testPolicy(symbol=[self.symbol], sd=self.sd, ed=self.ed, sv=self.sv)\n",
    "        manual_portval = ms.compute_portvals(manual_trades, start_val = self.sv, commission=0, impact=self.impact)\n",
    "        manual_portval = manual_portval / manual_portval.iloc[0]\n",
    "\n",
    "        ax = benchmark.plot(x=None, y='JPM', color='blue')\n",
    "        ax = manual_portval.plot(y='PortVal', ax=ax, color='black')\n",
    "        ax = qlearner_portval.plot(y='PortVal', ax=ax, color='red')\n",
    "        ymin, ymax = ax.get_ylim()\n",
    "        ax.legend([\"Benchmark\", \"Manual Strategy\", \"Q Learner\"])\n",
    "        plt.show()"
   ]
  },
  {
   "cell_type": "code",
   "execution_count": 56,
   "metadata": {
    "collapsed": false,
    "deletable": true,
    "editable": true
   },
   "outputs": [],
   "source": [
    "e1 = experiment1(sd=dt.datetime(2008,1,1), ed=dt.datetime(2009,12,31), sv=100000, impact=0, symbol='JPM')"
   ]
  },
  {
   "cell_type": "code",
   "execution_count": 57,
   "metadata": {
    "collapsed": false,
    "deletable": true,
    "editable": true
   },
   "outputs": [
    {
     "name": "stdout",
     "output_type": "stream",
     "text": [
      "                     Shares Symbol Order   BUY  -1000.0  -2000.0\n",
      "2008-01-02 00:00:00 -1000.0    JPM   BUY  SELL   1000.0      NaN\n",
      "2008-01-03 00:00:00     0.0    JPM   BUY   NaN      NaN      NaN\n",
      "2008-01-04 00:00:00  1000.0    JPM   BUY   NaN      NaN      NaN\n",
      "2008-01-07 00:00:00 -1000.0    JPM   BUY  SELL   1000.0      NaN\n",
      "2008-01-08 00:00:00  1000.0    JPM   BUY   NaN      NaN      NaN\n",
      "2008-01-09 00:00:00     0.0    JPM   BUY   NaN      NaN      NaN\n",
      "2008-01-10 00:00:00 -1000.0    JPM   BUY  SELL   1000.0      NaN\n",
      "2008-01-11 00:00:00  1000.0    JPM   BUY   NaN      NaN      NaN\n",
      "2008-01-14 00:00:00 -1000.0    JPM   BUY  SELL   1000.0      NaN\n",
      "2008-01-15 00:00:00  1000.0    JPM   BUY   NaN      NaN      NaN\n",
      "2008-01-16 00:00:00 -1000.0    JPM   BUY  SELL   1000.0      NaN\n",
      "2008-01-17 00:00:00     0.0    JPM   BUY   NaN      NaN      NaN\n",
      "2008-01-18 00:00:00  1000.0    JPM   BUY   NaN      NaN      NaN\n",
      "2008-01-22 00:00:00     0.0    JPM   BUY   NaN      NaN      NaN\n",
      "2008-01-23 00:00:00 -1000.0    JPM   BUY  SELL   1000.0      NaN\n",
      "2008-01-24 00:00:00     0.0    JPM   BUY   NaN      NaN      NaN\n",
      "2008-01-25 00:00:00  1000.0    JPM   BUY   NaN      NaN      NaN\n",
      "2008-01-28 00:00:00     0.0    JPM   BUY   NaN      NaN      NaN\n",
      "2008-01-29 00:00:00 -1000.0    JPM   BUY  SELL   1000.0      NaN\n",
      "2008-01-30 00:00:00  1000.0    JPM   BUY   NaN      NaN      NaN\n",
      "2008-01-31 00:00:00     0.0    JPM   BUY   NaN      NaN      NaN\n",
      "2008-02-01 00:00:00 -1000.0    JPM   BUY  SELL   1000.0      NaN\n",
      "2008-02-04 00:00:00     0.0    JPM   BUY   NaN      NaN      NaN\n",
      "2008-02-05 00:00:00     0.0    JPM   BUY   NaN      NaN      NaN\n",
      "2008-02-06 00:00:00  1000.0    JPM   BUY   NaN      NaN      NaN\n",
      "2008-02-07 00:00:00 -1000.0    JPM   BUY  SELL   1000.0      NaN\n",
      "2008-02-08 00:00:00     0.0    JPM   BUY   NaN      NaN      NaN\n",
      "2008-02-11 00:00:00     0.0    JPM   BUY   NaN      NaN      NaN\n",
      "2008-02-12 00:00:00  1000.0    JPM   BUY   NaN      NaN      NaN\n",
      "2008-02-13 00:00:00 -1000.0    JPM   BUY  SELL   1000.0      NaN\n",
      "...                     ...    ...   ...   ...      ...      ...\n",
      "2009-11-18 00:00:00 -1000.0    JPM   BUY  SELL   1000.0      NaN\n",
      "2009-11-19 00:00:00     0.0    JPM   BUY   NaN      NaN      NaN\n",
      "2009-11-20 00:00:00  1000.0    JPM   BUY   NaN      NaN      NaN\n",
      "2009-11-23 00:00:00 -1000.0    JPM   BUY  SELL   1000.0      NaN\n",
      "2009-11-24 00:00:00     0.0    JPM   BUY   NaN      NaN      NaN\n",
      "2009-11-25 00:00:00     0.0    JPM   BUY   NaN      NaN      NaN\n",
      "2009-11-27 00:00:00  1000.0    JPM   BUY   NaN      NaN      NaN\n",
      "2009-11-30 00:00:00 -1000.0    JPM   BUY  SELL   1000.0      NaN\n",
      "2009-12-01 00:00:00     0.0    JPM   BUY   NaN      NaN      NaN\n",
      "2009-12-02 00:00:00     0.0    JPM   BUY   NaN      NaN      NaN\n",
      "2009-12-03 00:00:00  1000.0    JPM   BUY   NaN      NaN      NaN\n",
      "2009-12-04 00:00:00 -1000.0    JPM   BUY  SELL   1000.0      NaN\n",
      "2009-12-07 00:00:00     0.0    JPM   BUY   NaN      NaN      NaN\n",
      "2009-12-08 00:00:00     0.0    JPM   BUY   NaN      NaN      NaN\n",
      "2009-12-09 00:00:00  1000.0    JPM   BUY   NaN      NaN      NaN\n",
      "2009-12-10 00:00:00 -1000.0    JPM   BUY  SELL   1000.0      NaN\n",
      "2009-12-11 00:00:00  1000.0    JPM   BUY   NaN      NaN      NaN\n",
      "2009-12-14 00:00:00 -1000.0    JPM   BUY  SELL   1000.0      NaN\n",
      "2009-12-15 00:00:00  1000.0    JPM   BUY   NaN      NaN      NaN\n",
      "2009-12-16 00:00:00 -1000.0    JPM   BUY  SELL   1000.0      NaN\n",
      "2009-12-17 00:00:00  1000.0    JPM   BUY   NaN      NaN      NaN\n",
      "2009-12-18 00:00:00     0.0    JPM   BUY   NaN      NaN      NaN\n",
      "2009-12-21 00:00:00     0.0    JPM   BUY   NaN      NaN      NaN\n",
      "2009-12-22 00:00:00 -1000.0    JPM   BUY  SELL   1000.0      NaN\n",
      "2009-12-23 00:00:00  1000.0    JPM   BUY   NaN      NaN      NaN\n",
      "2009-12-24 00:00:00 -1000.0    JPM   BUY  SELL   1000.0      NaN\n",
      "2009-12-28 00:00:00     0.0    JPM   BUY   NaN      NaN      NaN\n",
      "2009-12-29 00:00:00  1000.0    JPM   BUY   NaN      NaN      NaN\n",
      "2009-12-30 00:00:00 -1000.0    JPM   BUY  SELL   1000.0      NaN\n",
      "2009-12-31 00:00:00     0.0    JPM   BUY   NaN      NaN      NaN\n",
      "\n",
      "[505 rows x 6 columns]\n"
     ]
    },
    {
     "data": {
      "image/png": "[encoded data removed]",
      "text/plain": [
       "<matplotlib.figure.Figure at 0x1106d4c18>"
      ]
     },
     "metadata": {},
     "output_type": "display_data"
    }
   ],
   "source": [
    "e1.generate_figures()"
   ]
  },
  {
   "cell_type": "code",
   "execution_count": null,
   "metadata": {
    "collapsed": false,
    "deletable": true,
    "editable": true
   },
   "outputs": [],
   "source": []
  },
  {
   "cell_type": "code",
   "execution_count": 54,
   "metadata": {
    "collapsed": false,
    "deletable": true,
    "editable": true
   },
   "outputs": [],
   "source": []
  },
  {
   "cell_type": "code",
   "execution_count": null,
   "metadata": {
    "collapsed": false,
    "deletable": true,
    "editable": true
   },
   "outputs": [],
   "source": []
  },
  {
   "cell_type": "code",
   "execution_count": null,
   "metadata": {
    "collapsed": true
   },
   "outputs": [],
   "source": []
  }
 ],
 "metadata": {
  "kernelspec": {
   "display_name": "Python 3",
   "language": "python",
   "name": "python3"
  },
  "language_info": {
   "codemirror_mode": {
    "name": "ipython",
    "version": 3
   },
   "file_extension": ".py",
   "mimetype": "text/x-python",
   "name": "python",
   "nbconvert_exporter": "python",
   "pygments_lexer": "ipython3",
   "version": "3.6.0"
  }
 },
 "nbformat": 4,
 "nbformat_minor": 2
}
