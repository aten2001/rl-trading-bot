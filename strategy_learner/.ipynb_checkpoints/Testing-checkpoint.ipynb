{
 "cells": [
  {
   "cell_type": "code",
   "execution_count": 1,
   "metadata": {
    "collapsed": false,
    "deletable": true,
    "editable": true
   },
   "outputs": [],
   "source": [
    "import datetime as dt\n",
    "import pandas as pd\n",
    "import util as ut\n",
    "import random\n",
    "from QLearner import QLearner\n",
    "import indicators\n",
    "import numpy as np"
   ]
  },
  {
   "cell_type": "code",
   "execution_count": 2,
   "metadata": {
    "collapsed": false,
    "deletable": true,
    "editable": true
   },
   "outputs": [],
   "source": [
    "learner = QLearner(num_states=1000, \\\n",
    "        num_actions = 3, \\\n",
    "        alpha = 0.2, \\\n",
    "        gamma = 0.9, \\\n",
    "        rar = 0.98, \\\n",
    "        radr = 0.999, \\\n",
    "        dyna = 0, \\\n",
    "        verbose = False)"
   ]
  },
  {
   "cell_type": "code",
   "execution_count": 6,
   "metadata": {
    "collapsed": false,
    "deletable": true,
    "editable": true
   },
   "outputs": [],
   "source": [
    "def addEvidence(symbol = \"JPM\", \\\n",
    "        sd=dt.datetime(2008,1,1), \\\n",
    "        ed=dt.datetime(2009,12,31), \\\n",
    "        sv = 100000):\n",
    "\n",
    "    dates = pd.date_range(sd, ed)\n",
    "    prices = ut.get_data([symbol], dates)[[symbol]]\n",
    "    prices['Cash'] = 1.0\n",
    "    high = ut.get_data([symbol], dates, colname = 'High')[[symbol]]\n",
    "    low = ut.get_data([symbol], dates, colname = 'Low')[[symbol]]\n",
    "    orig_close = ut.get_data([symbol], dates, colname = 'Close')[[symbol]]\n",
    "    adj_high = high * prices[[symbol]] / orig_close\n",
    "    adj_low = low * prices[[symbol]] / orig_close\n",
    "\n",
    "    orders = pd.DataFrame().reindex_like(prices)\n",
    "    orders = orders.rename(index=str, columns={'Cash': 'Order', symbol:'Shares'})\n",
    "    orders['Shares'] = 0\n",
    "    orders['Order'] = 'CASH'\n",
    "    orders.index.name = 'Date'\n",
    "    orders.index = pd.to_datetime(orders.index, format=\"%Y/%m/%d\")\n",
    "\n",
    "    positions = pd.DataFrame().reindex_like(prices)\n",
    "    positions.fillna(0, inplace=True)\n",
    "    positions.iloc[0, -1] = sv\n",
    "    action = learner.querysetstate(0)\n",
    "\n",
    "    sma_range = indicators.sma(prices[[symbol]], 10).iloc[:, 0]\n",
    "    sma_bins = pd.cut(sma_range, 10, labels=False)\n",
    "    bb_range = indicators.bb(prices[[symbol]])\n",
    "    bb_range['value'] = bb_range.High - bb_range.Low\n",
    "    bb_range.fillna(method='bfill', inplace=True)\n",
    "    bb_range = bb_range['value']\n",
    "    bb_bins = pd.cut(bb_range, 10, labels=False)\n",
    "    comparisons = [adj_high[symbol] - adj_low[symbol], abs(adj_low[symbol] - prices[symbol].shift(1)), abs(adj_high[symbol] - prices[symbol].shift(1))]\n",
    "    tr = pd.concat(comparisons, axis=1).max(axis=1)\n",
    "    tr.fillna(method='bfill', inplace=True)\n",
    "    atr_range = tr.rolling(14, min_periods=1).mean()\n",
    "    atr_bins = pd.cut(atr_range, 10, labels=False)\n",
    "    states = sma_bins * 100 + bb_bins * 10 + atr_bins\n",
    "    #states = atr_bins * 100 + bb_bins * 10 + sma_bins\n",
    "\n",
    "    pre_shares = 0\n",
    "    normalized_close = prices[symbol]/prices.iloc[0,0]\n",
    "    daily_return = normalized_close - normalized_close.shift(1)\n",
    "    daily_return.fillna(method='bfill', inplace=True)\n",
    "    pre_qtable = np.ones(())\n",
    "    pre_qtable.itemset(0, 1)\n",
    "    cur_qtable = learner.q\n",
    "    print(pre_qtable)\n",
    "    while not np.array_equal(pre_qtable, cur_qtable): # check if converges\n",
    "        pre_cash = sv\n",
    "        pre_holdings = 0\n",
    "        for date, row in orders.iterrows():\n",
    "            cur_state = states[date]\n",
    "            reward = daily_return[date] * pre_holdings\n",
    "            action = learner.query(cur_state, reward)\n",
    "            orders.loc[date, 'Order'] = action\n",
    "            if action == 0:\n",
    "                orders.loc[date, 'Shares'] = -1000 - pre_shares\n",
    "                positions.loc[date, symbol] = -1000\n",
    "            if action == 1:\n",
    "                orders.loc[date, 'Shares'] = 0 - pre_shares\n",
    "                positions.loc[date, symbol] = 0\n",
    "            if action == 2:\n",
    "                orders.loc[date, 'Shares'] = 1000 - pre_shares\n",
    "                positions.loc[date, symbol] = 1000\n",
    "\n",
    "            positions.loc[date, 'Cash'] = pre_cash - orders.loc[date, 'Shares'] * prices.loc[date, symbol]\n",
    "            pre_cash = positions.loc[date, 'Cash']\n",
    "            pre_holdings = positions.loc[date, symbol]\n",
    "        pre_qtable = cur_qtable\n",
    "        cur_qtable = learner.q"
   ]
  },
  {
   "cell_type": "code",
   "execution_count": 7,
   "metadata": {
    "collapsed": false,
    "deletable": true,
    "editable": true
   },
   "outputs": [
    {
     "name": "stdout",
     "output_type": "stream",
     "text": [
      "[[ 1.  0.  0.]\n",
      " [ 0.  0.  0.]\n",
      " [ 0.  0.  0.]\n",
      " ..., \n",
      " [ 0.  0.  0.]\n",
      " [ 0.  0.  0.]\n",
      " [ 0.  0.  0.]]\n"
     ]
    }
   ],
   "source": [
    "addEvidence(symbol = \"JPM\", \\\n",
    "        sd=dt.datetime(2008,1,1), \\\n",
    "        ed=dt.datetime(2009,12,31), \\\n",
    "        sv = 100000)"
   ]
  },
  {
   "cell_type": "code",
   "execution_count": null,
   "metadata": {
    "collapsed": false,
    "deletable": true,
    "editable": true
   },
   "outputs": [],
   "source": [
    "learner.q"
   ]
  },
  {
   "cell_type": "code",
   "execution_count": 9,
   "metadata": {
    "collapsed": false,
    "deletable": true,
    "editable": true
   },
   "outputs": [],
   "source": [
    "def testPolicy(symbol = \"JPM\", \\\n",
    "    sd=dt.datetime(2010,1,1), \\\n",
    "    ed=dt.datetime(2011,12,31), \\\n",
    "    sv = 100000):\n",
    "    dates = pd.date_range(sd, ed)\n",
    "    prices = ut.get_data([symbol], dates)[[symbol]]\n",
    "    high = ut.get_data([symbol], dates, colname = 'High')[[symbol]]\n",
    "    low = ut.get_data([symbol], dates, colname = 'Low')[[symbol]]\n",
    "    orig_close = ut.get_data([symbol], dates, colname = 'Close')[[symbol]]\n",
    "    adj_high = high * prices[[symbol]] / orig_close\n",
    "    adj_low = low * prices[[symbol]] / orig_close\n",
    "\n",
    "    sma_range = indicators.sma(prices[[symbol]], 10).iloc[:, 0]\n",
    "    sma_bins = pd.qcut(sma_range, 10, labels=False)\n",
    "    bb_range = indicators.bb(prices[[symbol]])\n",
    "    bb_range['value'] = bb_range.High - bb_range.Low\n",
    "    bb_range.fillna(method='bfill', inplace=True)\n",
    "    bb_range=bb_range['value']\n",
    "    bb_bins = pd.cut(bb_range, 10, labels=False)\n",
    "    comparisons = [adj_high[symbol]-adj_low[symbol], abs(adj_low[symbol] - prices[symbol].shift(1)), abs(adj_high[symbol] - prices[symbol].shift(1))]\n",
    "    tr = pd.concat(comparisons, axis=1).max(axis=1)\n",
    "    tr.fillna(method='bfill', inplace=True)\n",
    "    atr_range = tr.rolling(14, min_periods=1).mean()\n",
    "    atr_bins = pd.qcut(atr_range, 10, labels=False)\n",
    "    states = sma_bins * 100 + bb_bins * 10 + atr_bins\n",
    "    trades = pd.DataFrame().reindex_like(prices)  # only portfolio symbols\n",
    "    trades[symbol] = 0\n",
    "    pre_position = 0\n",
    "    for date, row in trades.iterrows():\n",
    "        cur_state = states[date] # compute current state\n",
    "        action = learner.querysetstate(cur_state)\n",
    "        if action == 0:\n",
    "            trades.loc[date, symbol] = -1000 - pre_position\n",
    "            pre_position = -1000\n",
    "        elif action == 1:\n",
    "            trades.loc[date, symbol] = 0 - pre_position\n",
    "            pre_position = 0\n",
    "        elif action == 2:\n",
    "            trades.loc[date, symbol] = 1000 - pre_position\n",
    "            pre_position = 1000\n",
    "    return trades"
   ]
  },
  {
   "cell_type": "code",
   "execution_count": 10,
   "metadata": {
    "collapsed": false,
    "deletable": true,
    "editable": true
   },
   "outputs": [
    {
     "ename": "TypeError",
     "evalue": "testPolicy() missing 1 required positional argument: 'self'",
     "output_type": "error",
     "traceback": [
      "\u001b[0;31m---------------------------------------------------------------------------\u001b[0m",
      "\u001b[0;31mTypeError\u001b[0m                                 Traceback (most recent call last)",
      "\u001b[0;32m<ipython-input-10-7cf22beaa766>\u001b[0m in \u001b[0;36m<module>\u001b[0;34m()\u001b[0m\n\u001b[0;32m----> 1\u001b[0;31m \u001b[0morder_book\u001b[0m \u001b[0;34m=\u001b[0m \u001b[0mtestPolicy\u001b[0m\u001b[0;34m(\u001b[0m\u001b[0msymbol\u001b[0m \u001b[0;34m=\u001b[0m \u001b[0;34m\"JPM\"\u001b[0m\u001b[0;34m,\u001b[0m         \u001b[0msd\u001b[0m\u001b[0;34m=\u001b[0m\u001b[0mdt\u001b[0m\u001b[0;34m.\u001b[0m\u001b[0mdatetime\u001b[0m\u001b[0;34m(\u001b[0m\u001b[0;36m2010\u001b[0m\u001b[0;34m,\u001b[0m\u001b[0;36m1\u001b[0m\u001b[0;34m,\u001b[0m\u001b[0;36m1\u001b[0m\u001b[0;34m)\u001b[0m\u001b[0;34m,\u001b[0m         \u001b[0med\u001b[0m\u001b[0;34m=\u001b[0m\u001b[0mdt\u001b[0m\u001b[0;34m.\u001b[0m\u001b[0mdatetime\u001b[0m\u001b[0;34m(\u001b[0m\u001b[0;36m2011\u001b[0m\u001b[0;34m,\u001b[0m\u001b[0;36m12\u001b[0m\u001b[0;34m,\u001b[0m\u001b[0;36m31\u001b[0m\u001b[0;34m)\u001b[0m\u001b[0;34m,\u001b[0m         \u001b[0msv\u001b[0m \u001b[0;34m=\u001b[0m \u001b[0;36m100000\u001b[0m\u001b[0;34m)\u001b[0m\u001b[0;34m\u001b[0m\u001b[0m\n\u001b[0m",
      "\u001b[0;31mTypeError\u001b[0m: testPolicy() missing 1 required positional argument: 'self'"
     ]
    }
   ],
   "source": [
    "order_book = testPolicy(symbol = \"JPM\", \\\n",
    "        sd=dt.datetime(2010,1,1), \\\n",
    "        ed=dt.datetime(2011,12,31), \\\n",
    "        sv = 100000)"
   ]
  },
  {
   "cell_type": "code",
   "execution_count": null,
   "metadata": {
    "collapsed": false,
    "deletable": true,
    "editable": true
   },
   "outputs": [],
   "source": [
    "order_book"
   ]
  },
  {
   "cell_type": "code",
   "execution_count": null,
   "metadata": {
    "collapsed": false,
    "deletable": true,
    "editable": true
   },
   "outputs": [],
   "source": []
  },
  {
   "cell_type": "code",
   "execution_count": null,
   "metadata": {
    "collapsed": false,
    "deletable": true,
    "editable": true
   },
   "outputs": [],
   "source": [
    "sd=dt.datetime(2008,1,1)\n",
    "yesterday = sd - dt.timedelta(1)\n",
    "ed=dt.datetime(2009,12,31)\n",
    "dates = pd.date_range(sd, ed)\n",
    "prices = ut.get_data(['JPM'], dates)[['JPM']]\n",
    "normalized_close = prices/prices.iloc[0, :]\n",
    "sma_range = indicators.sma(prices[['JPM']], 10)\n",
    "sma = sma_range.loc[ed, 'JPM']\n",
    "sma_range = indicators.sma(prices[['JPM']], 10).iloc[:, 0]\n",
    "states = set(pd.qcut(sma_range, 100))\n",
    "states = list(states)\n",
    "for i in range(len((states))):\n",
    "        if sma in states[i]:\n",
    "            print(i)"
   ]
  },
  {
   "cell_type": "code",
   "execution_count": null,
   "metadata": {
    "collapsed": false,
    "deletable": true,
    "editable": true
   },
   "outputs": [],
   "source": [
    "q = np.zeros((1000, 3))"
   ]
  },
  {
   "cell_type": "code",
   "execution_count": null,
   "metadata": {
    "collapsed": false,
    "deletable": true,
    "editable": true
   },
   "outputs": [],
   "source": [
    "q.itemset(4, 1)"
   ]
  },
  {
   "cell_type": "code",
   "execution_count": null,
   "metadata": {
    "collapsed": false
   },
   "outputs": [],
   "source": [
    "q"
   ]
  },
  {
   "cell_type": "code",
   "execution_count": null,
   "metadata": {
    "collapsed": true
   },
   "outputs": [],
   "source": []
  }
 ],
 "metadata": {
  "kernelspec": {
   "display_name": "Python 3",
   "language": "python",
   "name": "python3"
  },
  "language_info": {
   "codemirror_mode": {
    "name": "ipython",
    "version": 3
   },
   "file_extension": ".py",
   "mimetype": "text/x-python",
   "name": "python",
   "nbconvert_exporter": "python",
   "pygments_lexer": "ipython3",
   "version": "3.6.0"
  }
 },
 "nbformat": 4,
 "nbformat_minor": 2
}
